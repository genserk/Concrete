{
 "cells": [
  {
   "cell_type": "code",
   "execution_count": 1,
   "id": "c08415eb",
   "metadata": {},
   "outputs": [],
   "source": [
    "import numpy as np\n",
    "import pandas as pd\n",
    "import matplotlib.pyplot as plt\n",
    "import seaborn as sns\n",
    "from sklearn.model_selection import train_test_split"
   ]
  },
  {
   "cell_type": "code",
   "execution_count": 2,
   "id": "cb1e2c64",
   "metadata": {},
   "outputs": [],
   "source": [
    "concrete = pd.read_csv('data/concrete.csv')\n",
    "co2 = pd.read_csv('data/co2.csv')\n",
    "\n",
    "concrete['co2_lower'] = sum([concrete[col] * co2.loc[co2.ingredient == col, 'lower_bound'].values[0] for col in concrete.columns[:7]])\n",
    "concrete['co2_upper'] = sum([concrete[col] * co2.loc[co2.ingredient == col, 'upper_bound'].values[0] for col in concrete.columns[:7]])\n",
    "\n",
    "concrete = concrete[concrete['age'] < 120]\n",
    "\n",
    "concrete_as = concrete[(concrete['ash'] > 0) & (concrete['slag'] > 0)]\n",
    "concrete_a = concrete[(concrete['ash'] > 0) & (concrete['slag'] == 0)]\n",
    "concrete_s = concrete[(concrete['ash'] == 0) & (concrete['slag'] > 0)]\n",
    "concrete_ = concrete[(concrete['ash'] == 0) & (concrete['slag'] == 0)]\n",
    "\n",
    "concrete_train, concrete_test = train_test_split(concrete,\n",
    "                                                 shuffle=True,\n",
    "                                                 random_state=487)\n",
    "\n",
    "features = concrete.columns[:-3]"
   ]
  },
  {
   "cell_type": "code",
   "execution_count": 3,
   "id": "9fa95ded",
   "metadata": {},
   "outputs": [],
   "source": [
    "# This function was modified from stackexchange user hughdbrown \n",
    "# at this link, \n",
    "# https://stackoverflow.com/questions/1482308/how-to-get-all-subsets-of-a-set-powerset\n",
    "\n",
    "# This returns the power set of a set minus the empty set\n",
    "def powerset(s):\n",
    "    power_set = []\n",
    "    x = len(s)\n",
    "    for i in range(1 << x):\n",
    "        power_set.append([s[j] for j in range(x) if (i & (1 << j))])\n",
    "        \n",
    "    return power_set[1:]\n"
   ]
  },
  {
   "cell_type": "code",
   "execution_count": 4,
   "id": "dfe94f66",
   "metadata": {},
   "outputs": [],
   "source": [
    "from sklearn.ensemble import RandomForestRegressor\n",
    "from sklearn.model_selection import GridSearchCV"
   ]
  },
  {
   "cell_type": "code",
   "execution_count": null,
   "id": "81d86d27",
   "metadata": {},
   "outputs": [],
   "source": [
    "def forest_grid(max_depths,features,n_trees,concrete_train):\n",
    "\n",
    "    grid_cv = GridSearchCV(RandomForestRegressor(), # first put the model object here\n",
    "                              param_grid = {'max_depth':max_depths, # place the grid values for max_depth and\n",
    "                                            'n_estimators':n_trees}, # and n_estimators here\n",
    "                              scoring = 'neg_mean_squared_error', # put the metric we are trying to optimize here as a string, \"accuracy\"\n",
    "                              cv = 5) # put the number of cv splits here\n",
    "\n",
    "    ## you fit it just like a model\n",
    "    grid_cv.fit(concrete_train[features], concrete_train['strength'])\n",
    "\n",
    "    return grid_cv.best_params_, -grid_cv.best_score_"
   ]
  },
  {
   "cell_type": "code",
   "execution_count": null,
   "id": "c25f96f2",
   "metadata": {},
   "outputs": [
    {
     "name": "stdout",
     "output_type": "stream",
     "text": [
      "{'max_depth': 12, 'n_estimators': 100}\n",
      "29.249699627404482\n",
      "0.01 ({'max_depth': 12, 'n_estimators': 100}, 29.249699627404482)\n",
      "{'max_depth': 12, 'n_estimators': 100}\n",
      "29.522849057716957\n",
      "0.02 ({'max_depth': 12, 'n_estimators': 100}, 29.522849057716957)\n"
     ]
    }
   ],
   "source": [
    "features2 = ['cement', 'slag', 'ash', 'water', 'superplastic', 'coarseagg', 'fineagg', 'exp_age']\n",
    "\n",
    "max_depths = [5,6,7,8,9,10,11,12,13, 50]\n",
    "features = ['cement', 'slag', 'water', 'superplastic', 'coarseagg', 'fineagg', 'exp_age']\n",
    "n_trees = [100, 500]\n",
    "\n",
    "\n",
    "for factor in np.arange(.01, .1, .01):\n",
    "    concrete_train['exp_age'] = np.exp(-factor * concrete_train['age'])\n",
    "    print(factor, forest_grid(max_depths,features,n_trees,concrete_train))"
   ]
  },
  {
   "cell_type": "code",
   "execution_count": null,
   "id": "cdb73901",
   "metadata": {},
   "outputs": [],
   "source": []
  }
 ],
 "metadata": {
  "kernelspec": {
   "display_name": "Python 3 (ipykernel)",
   "language": "python",
   "name": "python3"
  },
  "language_info": {
   "codemirror_mode": {
    "name": "ipython",
    "version": 3
   },
   "file_extension": ".py",
   "mimetype": "text/x-python",
   "name": "python",
   "nbconvert_exporter": "python",
   "pygments_lexer": "ipython3",
   "version": "3.10.4"
  }
 },
 "nbformat": 4,
 "nbformat_minor": 5
}
